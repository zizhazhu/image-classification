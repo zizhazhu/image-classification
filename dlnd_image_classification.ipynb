{
 "cells": [
  {
   "cell_type": "markdown",
   "metadata": {
    "collapsed": true
   },
   "source": [
    "# 图像分类\n",
    "\n",
    "在此项目中，你将对 [CIFAR-10 数据集](https://www.cs.toronto.edu/~kriz/cifar.html) 中的图片进行分类。该数据集包含飞机、猫狗和其他物体。你需要预处理这些图片，然后用所有样本训练一个卷积神经网络。图片需要标准化（normalized），标签需要采用 one-hot 编码。你需要应用所学的知识构建卷积的、最大池化（max pooling）、丢弃（dropout）和完全连接（fully connected）的层。最后，你需要在样本图片上看到神经网络的预测结果。\n",
    "\n",
    "\n",
    "## 获取数据\n",
    "\n",
    "请运行以下单元，以下载 [CIFAR-10 数据集（Python版）](https://www.cs.toronto.edu/~kriz/cifar-10-python.tar.gz)。\n"
   ]
  },
  {
   "cell_type": "code",
   "execution_count": 1,
   "metadata": {},
   "outputs": [
    {
     "name": "stdout",
     "output_type": "stream",
     "text": [
      "All files found!\n"
     ]
    }
   ],
   "source": [
    "\"\"\"\n",
    "DON'T MODIFY ANYTHING IN THIS CELL THAT IS BELOW THIS LINE\n",
    "\"\"\"\n",
    "from urllib.request import urlretrieve\n",
    "from os.path import isfile, isdir\n",
    "from tqdm import tqdm\n",
    "import problem_unittests as tests\n",
    "import tarfile\n",
    "\n",
    "cifar10_dataset_folder_path = 'cifar-10-batches-py'\n",
    "\n",
    "# Use Floyd's cifar-10 dataset if present\n",
    "floyd_cifar10_location = '/input/cifar-10/python.tar.gz'\n",
    "if isfile(floyd_cifar10_location):\n",
    "    tar_gz_path = floyd_cifar10_location\n",
    "else:\n",
    "    tar_gz_path = 'cifar-10-python.tar.gz'\n",
    "\n",
    "class DLProgress(tqdm):\n",
    "    last_block = 0\n",
    "\n",
    "    def hook(self, block_num=1, block_size=1, total_size=None):\n",
    "        self.total = total_size\n",
    "        self.update((block_num - self.last_block) * block_size)\n",
    "        self.last_block = block_num\n",
    "\n",
    "if not isfile(tar_gz_path):\n",
    "    with DLProgress(unit='B', unit_scale=True, miniters=1, desc='CIFAR-10 Dataset') as pbar:\n",
    "        urlretrieve(\n",
    "            'https://www.cs.toronto.edu/~kriz/cifar-10-python.tar.gz',\n",
    "            tar_gz_path,\n",
    "            pbar.hook)\n",
    "\n",
    "if not isdir(cifar10_dataset_folder_path):\n",
    "    with tarfile.open(tar_gz_path) as tar:\n",
    "        tar.extractall()\n",
    "        tar.close()\n",
    "\n",
    "\n",
    "tests.test_folder_path(cifar10_dataset_folder_path)"
   ]
  },
  {
   "cell_type": "markdown",
   "metadata": {},
   "source": [
    "## 探索数据\n",
    "\n",
    "该数据集分成了几部分／批次（batches），以免你的机器在计算时内存不足。CIFAR-10 数据集包含 5 个部分，名称分别为 `data_batch_1`、`data_batch_2`，以此类推。每个部分都包含以下某个类别的标签和图片：\n",
    "\n",
    "* 飞机\n",
    "* 汽车\n",
    "* 鸟类\n",
    "* 猫\n",
    "* 鹿\n",
    "* 狗\n",
    "* 青蛙\n",
    "* 马\n",
    "* 船只\n",
    "* 卡车\n",
    "\n",
    "了解数据集也是对数据进行预测的必经步骤。你可以通过更改 `batch_id` 和 `sample_id` 探索下面的代码单元。`batch_id` 是数据集一个部分的 ID（1 到 5）。`sample_id` 是该部分中图片和标签对（label pair）的 ID。\n",
    "\n",
    "问问你自己：“可能的标签有哪些？”、“图片数据的值范围是多少？”、“标签是按顺序排列，还是随机排列的？”。思考类似的问题，有助于你预处理数据，并使预测结果更准确。\n"
   ]
  },
  {
   "cell_type": "code",
   "execution_count": 2,
   "metadata": {},
   "outputs": [
    {
     "name": "stdout",
     "output_type": "stream",
     "text": [
      "\n",
      "Stats of batch 5:\n",
      "Samples: 10000\n",
      "Label Counts: {0: 1014, 1: 1014, 2: 952, 3: 1016, 4: 997, 5: 1025, 6: 980, 7: 977, 8: 1003, 9: 1022}\n",
      "First 20 Labels: [1, 8, 5, 1, 5, 7, 4, 3, 8, 2, 7, 2, 0, 1, 5, 9, 6, 2, 0, 8]\n",
      "\n",
      "Example of Image 5:\n",
      "Image - Min Value: 1 Max Value: 255\n",
      "Image - Shape: (32, 32, 3)\n",
      "Label - Label Id: 7 Name: horse\n"
     ]
    },
    {
     "data": {
      "image/png": "[encoded data removed]",
      "text/plain": [
       "<matplotlib.figure.Figure at 0x7f29e003d550>"
      ]
     },
     "metadata": {
      "image/png": {
       "height": 250,
       "width": 253
      }
     },
     "output_type": "display_data"
    }
   ],
   "source": [
    "%matplotlib inline\n",
    "%config InlineBackend.figure_format = 'retina'\n",
    "\n",
    "import helper\n",
    "import numpy as np\n",
    "\n",
    "# Explore the dataset\n",
    "batch_id = 5\n",
    "sample_id = 5\n",
    "helper.display_stats(cifar10_dataset_folder_path, batch_id, sample_id)"
   ]
  },
  {
   "cell_type": "markdown",
   "metadata": {},
   "source": [
    "## 实现预处理函数\n",
    "\n",
    "### 标准化\n",
    "\n",
    "在下面的单元中，实现 `normalize` 函数，传入图片数据 `x`，并返回标准化 Numpy 数组。值应该在 0 到 1 的范围内（含 0 和 1）。返回对象应该和 `x` 的形状一样。\n"
   ]
  },
  {
   "cell_type": "code",
   "execution_count": 3,
   "metadata": {},
   "outputs": [
    {
     "name": "stdout",
     "output_type": "stream",
     "text": [
      "Tests Passed\n"
     ]
    }
   ],
   "source": [
    "def normalize(x):\n",
    "    \"\"\"\n",
    "    Normalize a list of sample image data in the range of 0 to 1\n",
    "    : x: List of image data.  The image shape is (32, 32, 3)\n",
    "    : return: Numpy array of normalize data\n",
    "    \"\"\"\n",
    "    return (x - np.min(x)) / (np.max(x) - np.min(x))\n",
    "\n",
    "\n",
    "\"\"\"\n",
    "DON'T MODIFY ANYTHING IN THIS CELL THAT IS BELOW THIS LINE\n",
    "\"\"\"\n",
    "tests.test_normalize(normalize)"
   ]
  },
  {
   "cell_type": "markdown",
   "metadata": {},
   "source": [
    "### One-hot 编码\n",
    "\n",
    "和之前的代码单元一样，你将为预处理实现一个函数。这次，你将实现 `one_hot_encode` 函数。输入，也就是 `x`，是一个标签列表。实现该函数，以返回为 one_hot 编码的 Numpy 数组的标签列表。标签的可能值为 0 到 9。每次调用 `one_hot_encode` 时，对于每个值，one_hot 编码函数应该返回相同的编码。确保将编码映射保存到该函数外面。\n",
    "\n",
    "提示：不要重复发明轮子。\n"
   ]
  },
  {
   "cell_type": "code",
   "execution_count": 4,
   "metadata": {},
   "outputs": [
    {
     "name": "stdout",
     "output_type": "stream",
     "text": [
      "Tests Passed\n"
     ]
    }
   ],
   "source": [
    "def one_hot_encode(x):\n",
    "    \"\"\"\n",
    "    One hot encode a list of sample labels. Return a one-hot encoded vector for each label.\n",
    "    : x: List of sample Labels\n",
    "    : return: Numpy array of one-hot encoded labels\n",
    "    \"\"\"\n",
    "    result = np.zeros((len(x), 10))\n",
    "    result[np.arange(len(x)), x] = 1\n",
    "    return result\n",
    "\n",
    "\n",
    "\"\"\"\n",
    "DON'T MODIFY ANYTHING IN THIS CELL THAT IS BELOW THIS LINE\n",
    "\"\"\"\n",
    "tests.test_one_hot_encode(one_hot_encode)"
   ]
  },
  {
   "cell_type": "markdown",
   "metadata": {},
   "source": [
    "### 随机化数据\n",
    "\n",
    "之前探索数据时，你已经了解到，样本的顺序是随机的。再随机化一次也不会有什么关系，但是对于这个数据集没有必要。\n"
   ]
  },
  {
   "cell_type": "markdown",
   "metadata": {},
   "source": [
    "## 预处理所有数据并保存\n",
    "\n",
    "运行下方的代码单元，将预处理所有 CIFAR-10 数据，并保存到文件中。下面的代码还使用了 10% 的训练数据，用来验证。\n"
   ]
  },
  {
   "cell_type": "code",
   "execution_count": 5,
   "metadata": {
    "collapsed": true
   },
   "outputs": [],
   "source": [
    "\"\"\"\n",
    "DON'T MODIFY ANYTHING IN THIS CELL\n",
    "\"\"\"\n",
    "# Preprocess Training, Validation, and Testing Data\n",
    "helper.preprocess_and_save_data(cifar10_dataset_folder_path, normalize, one_hot_encode)"
   ]
  },
  {
   "cell_type": "markdown",
   "metadata": {},
   "source": [
    "# 检查点\n",
    "\n",
    "这是你的第一个检查点。如果你什么时候决定再回到该记事本，或需要重新启动该记事本，你可以从这里开始。预处理的数据已保存到本地。\n"
   ]
  },
  {
   "cell_type": "code",
   "execution_count": 6,
   "metadata": {
    "collapsed": true
   },
   "outputs": [],
   "source": [
    "\"\"\"\n",
    "DON'T MODIFY ANYTHING IN THIS CELL\n",
    "\"\"\"\n",
    "import pickle\n",
    "import problem_unittests as tests\n",
    "import helper\n",
    "\n",
    "# Load the Preprocessed Validation data\n",
    "valid_features, valid_labels = pickle.load(open('preprocess_validation.p', mode='rb'))"
   ]
  },
  {
   "cell_type": "markdown",
   "metadata": {},
   "source": [
    "## 构建网络\n",
    "\n",
    "对于该神经网络，你需要将每层都构建为一个函数。你看到的大部分代码都位于函数外面。要更全面地测试你的代码，我们需要你将每层放入一个函数中。这样使我们能够提供更好的反馈，并使用我们的统一测试检测简单的错误，然后再提交项目。\n",
    "\n",
    ">**注意**：如果你觉得每周很难抽出足够的时间学习这门课程，我们为此项目提供了一个小捷径。对于接下来的几个问题，你可以使用 [TensorFlow Layers](https://www.tensorflow.org/api_docs/python/tf/layers) 或 [TensorFlow Layers (contrib)](https://www.tensorflow.org/api_guides/python/contrib.layers) 程序包中的类来构建每个层级，但是“卷积和最大池化层级”部分的层级除外。TF Layers 和 Keras 及 TFLearn 层级类似，因此很容易学会。\n",
    "\n",
    ">但是，如果你想充分利用这门课程，请尝试自己解决所有问题，不使用 TF Layers 程序包中的任何类。你依然可以使用其他程序包中的类，这些类和你在 TF Layers 中的类名称是一样的！例如，你可以使用 TF Neural Network 版本的 `conv2d` 类 [tf.nn.conv2d](https://www.tensorflow.org/api_docs/python/tf/nn/conv2d)，而不是 TF Layers 版本的 `conv2d` 类 [tf.layers.conv2d](https://www.tensorflow.org/api_docs/python/tf/layers/conv2d)。\n",
    "\n",
    "我们开始吧！\n",
    "\n",
    "\n",
    "### 输入\n",
    "\n",
    "神经网络需要读取图片数据、one-hot 编码标签和丢弃保留概率（dropout keep probability）。请实现以下函数：\n",
    "\n",
    "* 实现 `neural_net_image_input`\n",
    " * 返回 [TF Placeholder](https://www.tensorflow.org/api_docs/python/tf/placeholder)\n",
    " * 使用 `image_shape` 设置形状，部分大小设为 `None`\n",
    " * 使用 [TF Placeholder](https://www.tensorflow.org/api_docs/python/tf/placeholder) 中的 TensorFlow `name` 参数对 TensorFlow 占位符 \"x\" 命名\n",
    "* 实现 `neural_net_label_input`\n",
    " * 返回 [TF Placeholder](https://www.tensorflow.org/api_docs/python/tf/placeholder)\n",
    " * 使用 `n_classes` 设置形状，部分大小设为 `None`\n",
    " * 使用 [TF Placeholder](https://www.tensorflow.org/api_docs/python/tf/placeholder) 中的 TensorFlow `name` 参数对 TensorFlow 占位符 \"y\" 命名\n",
    "* 实现 `neural_net_keep_prob_input`\n",
    " * 返回 [TF Placeholder](https://www.tensorflow.org/api_docs/python/tf/placeholder)，用于丢弃保留概率\n",
    " * 使用 [TF Placeholder](https://www.tensorflow.org/api_docs/python/tf/placeholder) 中的 TensorFlow `name` 参数对 TensorFlow 占位符 \"keep_prob\" 命名\n",
    "\n",
    "这些名称将在项目结束时，用于加载保存的模型。\n",
    "\n",
    "注意：TensorFlow 中的 `None` 表示形状可以是动态大小。"
   ]
  },
  {
   "cell_type": "code",
   "execution_count": 7,
   "metadata": {},
   "outputs": [
    {
     "name": "stdout",
     "output_type": "stream",
     "text": [
      "Image Input Tests Passed.\n",
      "Label Input Tests Passed.\n",
      "Keep Prob Tests Passed.\n"
     ]
    }
   ],
   "source": [
    "import tensorflow as tf\n",
    "\n",
    "def neural_net_image_input(image_shape):\n",
    "    \"\"\"\n",
    "    Return a Tensor for a batch of image input\n",
    "    : image_shape: Shape of the images\n",
    "    : return: Tensor for image input.\n",
    "    \"\"\"\n",
    "    shape = [None]\n",
    "    shape.extend(image_shape)\n",
    "    x = tf.placeholder(tf.float32, shape=shape, name='x')\n",
    "    return x\n",
    "\n",
    "\n",
    "def neural_net_label_input(n_classes):\n",
    "    \"\"\"\n",
    "    Return a Tensor for a batch of label input\n",
    "    : n_classes: Number of classes\n",
    "    : return: Tensor for label input.\n",
    "    \"\"\"\n",
    "    y = tf.placeholder(tf.float32, shape=[None, n_classes], name='y')\n",
    "    return y\n",
    "\n",
    "\n",
    "def neural_net_keep_prob_input():\n",
    "    \"\"\"\n",
    "    Return a Tensor for keep probability\n",
    "    : return: Tensor for keep probability.\n",
    "    \"\"\"\n",
    "    keep_prob = tf.placeholder(tf.float32, name='keep_prob')\n",
    "    return keep_prob\n",
    "\n",
    "\n",
    "\"\"\"\n",
    "DON'T MODIFY ANYTHING IN THIS CELL THAT IS BELOW THIS LINE\n",
    "\"\"\"\n",
    "tf.reset_default_graph()\n",
    "tests.test_nn_image_inputs(neural_net_image_input)\n",
    "tests.test_nn_label_inputs(neural_net_label_input)\n",
    "tests.test_nn_keep_prob_inputs(neural_net_keep_prob_input)"
   ]
  },
  {
   "cell_type": "markdown",
   "metadata": {},
   "source": [
    "### 卷积和最大池化层\n",
    "\n",
    "卷积层级适合处理图片。对于此代码单元，你应该实现函数 `conv2d_maxpool` 以便应用卷积然后进行最大池化：\n",
    "\n",
    "* 使用 `conv_ksize`、`conv_num_outputs` 和 `x_tensor` 的形状创建权重（weight）和偏置（bias）。\n",
    "* 使用权重和 `conv_strides` 对 `x_tensor` 应用卷积。\n",
    " * 建议使用我们建议的间距（padding），当然也可以使用任何其他间距。\n",
    "* 添加偏置\n",
    "* 向卷积中添加非线性激活（nonlinear activation）\n",
    "* 使用 `pool_ksize` 和 `pool_strides` 应用最大池化\n",
    " * 建议使用我们建议的间距（padding），当然也可以使用任何其他间距。\n",
    "\n",
    "**注意**：对于**此层**，**请勿使用** [TensorFlow Layers](https://www.tensorflow.org/api_docs/python/tf/layers) 或 [TensorFlow Layers (contrib)](https://www.tensorflow.org/api_guides/python/contrib.layers)，但是仍然可以使用 TensorFlow 的 [Neural Network](https://www.tensorflow.org/api_docs/python/tf/nn) 包。对于所有**其他层**，你依然可以使用快捷方法。\n"
   ]
  },
  {
   "cell_type": "code",
   "execution_count": 27,
   "metadata": {},
   "outputs": [
    {
     "name": "stdout",
     "output_type": "stream",
     "text": [
      "Tests Passed\n"
     ]
    }
   ],
   "source": [
    "def conv2d_maxpool(x_tensor, conv_num_outputs, conv_ksize, conv_strides, pool_ksize, pool_strides):\n",
    "    \"\"\"\n",
    "    Apply convolution then max pooling to x_tensor\n",
    "    :param x_tensor: TensorFlow Tensor\n",
    "    :param conv_num_outputs: Number of outputs for the convolutional layer\n",
    "    :param conv_ksize: kernal size 2-D Tuple for the convolutional layer\n",
    "    :param conv_strides: Stride 2-D Tuple for convolution\n",
    "    :param pool_ksize: kernal size 2-D Tuple for pool\n",
    "    :param pool_strides: Stride 2-D Tuple for pool\n",
    "    : return: A tensor that represents convolution and max pooling of x_tensor\n",
    "    \"\"\"\n",
    "    weights = tf.Variable(tf.truncated_normal([conv_ksize[0], conv_ksize[1], int(x_tensor.shape[3]), conv_num_outputs], stddev=0.1))\n",
    "    bias = tf.Variable(tf.zeros(shape=[conv_num_outputs]))\n",
    "    conv_output = tf.nn.bias_add(tf.nn.conv2d(x_tensor, weights, [1, conv_strides[0], conv_strides[1], 1], padding='SAME'), bias)\n",
    "    max_pool_output = tf.nn.relu(tf.nn.max_pool(conv_output, ksize=[1, pool_ksize[0], pool_ksize[1], 1], strides=[1, pool_strides[0], pool_strides[1], 1], padding='SAME'))\n",
    "    return max_pool_output\n",
    "\n",
    "\n",
    "\"\"\"\n",
    "DON'T MODIFY ANYTHING IN THIS CELL THAT IS BELOW THIS LINE\n",
    "\"\"\"\n",
    "tests.test_con_pool(conv2d_maxpool)"
   ]
  },
  {
   "cell_type": "markdown",
   "metadata": {},
   "source": [
    "### 扁平化层\n",
    "\n",
    "实现 `flatten` 函数，将 `x_tensor` 的维度从四维张量（4-D tensor）变成二维张量。输出应该是形状（*部分大小（Batch Size）*，*扁平化图片大小（Flattened Image Size）*）。快捷方法：对于此层，你可以使用 [TensorFlow Layers](https://www.tensorflow.org/api_docs/python/tf/layers) 或 [TensorFlow Layers (contrib)](https://www.tensorflow.org/api_guides/python/contrib.layers) 包中的类。如果你想要更大挑战，可以仅使用其他 TensorFlow 程序包。\n"
   ]
  },
  {
   "cell_type": "code",
   "execution_count": 9,
   "metadata": {},
   "outputs": [
    {
     "name": "stdout",
     "output_type": "stream",
     "text": [
      "Tests Passed\n"
     ]
    }
   ],
   "source": [
    "def flatten(x_tensor):\n",
    "    \"\"\"\n",
    "    Flatten x_tensor to (Batch Size, Flattened Image Size)\n",
    "    : x_tensor: A tensor of size (Batch Size, ...), where ... are the image dimensions.\n",
    "    : return: A tensor of size (Batch Size, Flattened Image Size).\n",
    "    \"\"\"\n",
    "    return tf.reshape(x_tensor, [-1, int(x_tensor.shape[1] * x_tensor.shape[2] * x_tensor.shape[3])])\n",
    "\n",
    "\n",
    "\"\"\"\n",
    "DON'T MODIFY ANYTHING IN THIS CELL THAT IS BELOW THIS LINE\n",
    "\"\"\"\n",
    "tests.test_flatten(flatten)"
   ]
  },
  {
   "cell_type": "markdown",
   "metadata": {},
   "source": [
    "### 完全连接的层\n",
    "\n",
    "实现 `fully_conn` 函数，以向 `x_tensor` 应用完全连接的层级，形状为（*部分大小（Batch Size）*，*num_outputs*）。快捷方法：对于此层，你可以使用 [TensorFlow Layers](https://www.tensorflow.org/api_docs/python/tf/layers) 或 [TensorFlow Layers (contrib)](https://www.tensorflow.org/api_guides/python/contrib.layers) 包中的类。如果你想要更大挑战，可以仅使用其他 TensorFlow 程序包。"
   ]
  },
  {
   "cell_type": "code",
   "execution_count": 10,
   "metadata": {},
   "outputs": [
    {
     "name": "stdout",
     "output_type": "stream",
     "text": [
      "Tests Passed\n"
     ]
    }
   ],
   "source": [
    "def fully_conn(x_tensor, num_outputs):\n",
    "    \"\"\"\n",
    "    Apply a fully connected layer to x_tensor using weight and bias\n",
    "    : x_tensor: A 2-D tensor where the first dimension is batch size.\n",
    "    : num_outputs: The number of output that the new tensor should be.\n",
    "    : return: A 2-D tensor where the second dimension is num_outputs.\n",
    "    \"\"\"\n",
    "    weights = tf.Variable(tf.truncated_normal([int(x_tensor.shape[-1]), num_outputs], stddev=0.1))\n",
    "    bias = tf.Variable(tf.zeros(shape=[num_outputs]))\n",
    "    output = tf.nn.relu(tf.matmul(x_tensor, weights) + bias)\n",
    "    return output\n",
    "\n",
    "\n",
    "\"\"\"\n",
    "DON'T MODIFY ANYTHING IN THIS CELL THAT IS BELOW THIS LINE\n",
    "\"\"\"\n",
    "tests.test_fully_conn(fully_conn)"
   ]
  },
  {
   "cell_type": "markdown",
   "metadata": {},
   "source": [
    "### 输出层\n",
    "\n",
    "实现 `output` 函数，向 x_tensor 应用完全连接的层级，形状为（*部分大小（Batch Size）*，*num_outputs*）。快捷方法：对于此层，你可以使用 [TensorFlow Layers](https://www.tensorflow.org/api_docs/python/tf/layers) 或 [TensorFlow Layers (contrib)](https://www.tensorflow.org/api_guides/python/contrib.layers) 包中的类。如果你想要更大挑战，可以仅使用其他 TensorFlow 程序包。\n",
    "\n",
    "**注意**：该层级不应应用 Activation、softmax 或交叉熵（cross entropy）。"
   ]
  },
  {
   "cell_type": "code",
   "execution_count": 11,
   "metadata": {},
   "outputs": [
    {
     "name": "stdout",
     "output_type": "stream",
     "text": [
      "Tests Passed\n"
     ]
    }
   ],
   "source": [
    "def output(x_tensor, num_outputs):\n",
    "    \"\"\"\n",
    "    Apply a output layer to x_tensor using weight and bias\n",
    "    : x_tensor: A 2-D tensor where the first dimension is batch size.\n",
    "    : num_outputs: The number of output that the new tensor should be.\n",
    "    : return: A 2-D tensor where the second dimension is num_outputs.\n",
    "    \"\"\"\n",
    "    weights = tf.Variable(tf.truncated_normal([int(x_tensor.shape[-1]), num_outputs], stddev=0.1))\n",
    "    bias = tf.Variable(tf.zeros(shape=[num_outputs]))\n",
    "    output = tf.matmul(x_tensor, weights) + bias\n",
    "    return output\n",
    "\n",
    "\n",
    "\"\"\"\n",
    "DON'T MODIFY ANYTHING IN THIS CELL THAT IS BELOW THIS LINE\n",
    "\"\"\"\n",
    "tests.test_output(output)"
   ]
  },
  {
   "cell_type": "markdown",
   "metadata": {},
   "source": [
    "### 创建卷积模型\n",
    "\n",
    "实现函数 `conv_net`， 创建卷积神经网络模型。该函数传入一批图片 `x`，并输出对数（logits）。使用你在上方创建的层创建此模型：\n",
    "\n",
    "* 应用 1、2 或 3 个卷积和最大池化层（Convolution and Max Pool layers）\n",
    "* 应用一个扁平层（Flatten Layer）\n",
    "* 应用 1、2 或 3 个完全连接层（Fully Connected Layers）\n",
    "* 应用一个输出层（Output Layer）\n",
    "* 返回输出\n",
    "* 使用 `keep_prob` 向模型中的一个或多个层应用 [TensorFlow 的 Dropout](https://www.tensorflow.org/api_docs/python/tf/nn/dropout)"
   ]
  },
  {
   "cell_type": "code",
   "execution_count": 31,
   "metadata": {},
   "outputs": [
    {
     "name": "stdout",
     "output_type": "stream",
     "text": [
      "Neural Network Built!\n"
     ]
    }
   ],
   "source": [
    "def conv_net(x, keep_prob):\n",
    "    \"\"\"\n",
    "    Create a convolutional neural network model\n",
    "    : x: Placeholder tensor that holds image data.\n",
    "    : keep_prob: Placeholder tensor that hold dropout keep probability.\n",
    "    : return: Tensor that represents logits\n",
    "    \"\"\"\n",
    "    # TODO: Apply 1, 2, or 3 Convolution and Max Pool layers\n",
    "    #    Play around with different number of outputs, kernel size and stride\n",
    "    # Function Definition from Above:\n",
    "    #    conv2d_maxpool(x_tensor, conv_num_outputs, conv_ksize, conv_strides, pool_ksize, pool_strides)\n",
    "    layer_1 = conv2d_maxpool(x, 32, [3, 3], [1, 1], [2, 2], [2, 2])\n",
    "    layer_1_dropout = tf.nn.dropout(layer_1, keep_prob)\n",
    "    layer_2 = conv2d_maxpool(layer_1_dropout, 64, [3, 3], [1, 1], [2, 2], [2, 2])\n",
    "    layer_2_dropout = tf.nn.dropout(layer_2, keep_prob)\n",
    "\n",
    "    # TODO: Apply a Flatten Layer\n",
    "    # Function Definition from Above:\n",
    "    #   flatten(x_tensor)\n",
    "    layer_2_flatten = flatten(layer_2_dropout)\n",
    "\n",
    "    # TODO: Apply 1, 2, or 3 Fully Connected Layers\n",
    "    #    Play around with different number of outputs\n",
    "    # Function Definition from Above:\n",
    "    #   fully_conn(x_tensor, num_outputs)\n",
    "    layer_3 = fully_conn(layer_2_flatten, 2048)\n",
    "    layer_4 = fully_conn(layer_3, 1024)\n",
    "    layer_4_dropout = tf.nn.dropout(layer_4, keep_prob)\n",
    "    \n",
    "    # TODO: Apply an Output Layer\n",
    "    #    Set this to the number of classes\n",
    "    # Function Definition from Above:\n",
    "    #   output(x_tensor, num_outputs)\n",
    "    y = output(layer_4_dropout, 10)\n",
    "    \n",
    "    # TODO: return output\n",
    "    return y\n",
    "\n",
    "\n",
    "\"\"\"\n",
    "DON'T MODIFY ANYTHING IN THIS CELL THAT IS BELOW THIS LINE\n",
    "\"\"\"\n",
    "\n",
    "##############################\n",
    "## Build the Neural Network ##\n",
    "##############################\n",
    "\n",
    "# Remove previous weights, bias, inputs, etc..\n",
    "tf.reset_default_graph()\n",
    "\n",
    "# Inputs\n",
    "x = neural_net_image_input((32, 32, 3))\n",
    "y = neural_net_label_input(10)\n",
    "keep_prob = neural_net_keep_prob_input()\n",
    "\n",
    "# Model\n",
    "logits = conv_net(x, keep_prob)\n",
    "\n",
    "# Name logits Tensor, so that is can be loaded from disk after training\n",
    "logits = tf.identity(logits, name='logits')\n",
    "\n",
    "# Loss and Optimizer\n",
    "cost = tf.reduce_mean(tf.nn.softmax_cross_entropy_with_logits(logits=logits, labels=y))\n",
    "optimizer = tf.train.AdamOptimizer().minimize(cost)\n",
    "\n",
    "# Accuracy\n",
    "correct_pred = tf.equal(tf.argmax(logits, 1), tf.argmax(y, 1))\n",
    "accuracy = tf.reduce_mean(tf.cast(correct_pred, tf.float32), name='accuracy')\n",
    "\n",
    "tests.test_conv_net(conv_net)"
   ]
  },
  {
   "cell_type": "markdown",
   "metadata": {},
   "source": [
    "## 训练神经网络\n",
    "\n",
    "### 单次优化\n",
    "\n",
    "实现函数 `train_neural_network` 以进行单次优化（single optimization）。该优化应该使用 `optimizer` 优化 `session`，其中 `feed_dict` 具有以下参数：\n",
    "\n",
    "* `x` 表示图片输入\n",
    "* `y` 表示标签\n",
    "* `keep_prob` 表示丢弃的保留率\n",
    "\n",
    "每个部分都会调用该函数，所以 `tf.global_variables_initializer()` 已经被调用。\n",
    "\n",
    "注意：不需要返回任何内容。该函数只是用来优化神经网络。\n"
   ]
  },
  {
   "cell_type": "code",
   "execution_count": 25,
   "metadata": {},
   "outputs": [
    {
     "name": "stdout",
     "output_type": "stream",
     "text": [
      "Tests Passed\n"
     ]
    }
   ],
   "source": [
    "def train_neural_network(session, optimizer, keep_probability, feature_batch, label_batch):\n",
    "    \"\"\"\n",
    "    Optimize the session on a batch of images and labels\n",
    "    : session: Current TensorFlow session\n",
    "    : optimizer: TensorFlow optimizer function\n",
    "    : keep_probability: keep probability\n",
    "    : feature_batch: Batch of Numpy image data\n",
    "    : label_batch: Batch of Numpy label data\n",
    "    \"\"\"\n",
    "    session.run(optimizer, feed_dict={x: feature_batch, y: label_batch, keep_prob: keep_probability})\n",
    "\n",
    "\n",
    "\"\"\"\n",
    "DON'T MODIFY ANYTHING IN THIS CELL THAT IS BELOW THIS LINE\n",
    "\"\"\"\n",
    "tests.test_train_nn(train_neural_network)"
   ]
  },
  {
   "cell_type": "markdown",
   "metadata": {},
   "source": [
    "### 显示数据\n",
    "\n",
    "实现函数 `print_stats` 以输出损失和验证准确率。使用全局变量 `valid_features` 和 `valid_labels` 计算验证准确率。使用保留率 `1.0` 计算损失和验证准确率（loss and validation accuracy）。\n"
   ]
  },
  {
   "cell_type": "code",
   "execution_count": 14,
   "metadata": {
    "collapsed": true
   },
   "outputs": [],
   "source": [
    "def print_stats(session, feature_batch, label_batch, cost, accuracy):\n",
    "    \"\"\"\n",
    "    Print information about loss and validation accuracy\n",
    "    : session: Current TensorFlow session\n",
    "    : feature_batch: Batch of Numpy image data\n",
    "    : label_batch: Batch of Numpy label data\n",
    "    : cost: TensorFlow cost function\n",
    "    : accuracy: TensorFlow accuracy function\n",
    "    \"\"\"\n",
    "    training_loss = session.run(cost, feed_dict={x: feature_batch, y: label_batch, keep_prob: 1.0})\n",
    "    validation_accuracy = session.run(accuracy, feed_dict={x: valid_features, y: valid_labels, keep_prob: 1.0})\n",
    "    print([training_loss, validation_accuracy])"
   ]
  },
  {
   "cell_type": "markdown",
   "metadata": {},
   "source": [
    "### 超参数\n",
    "\n",
    "调试以下超参数：\n",
    "* 设置 `epochs` 表示神经网络停止学习或开始过拟合的迭代次数\n",
    "* 设置 `batch_size`，表示机器内存允许的部分最大体积。大部分人设为以下常见内存大小：\n",
    "\n",
    " * 64\n",
    " * 128\n",
    " * 256\n",
    " * ...\n",
    "* 设置 `keep_probability` 表示使用丢弃时保留节点的概率"
   ]
  },
  {
   "cell_type": "code",
   "execution_count": 36,
   "metadata": {
    "collapsed": true
   },
   "outputs": [],
   "source": [
    "# TODO: Tune Parameters\n",
    "epochs = 50\n",
    "batch_size = 256\n",
    "keep_probability = 0.5"
   ]
  },
  {
   "cell_type": "markdown",
   "metadata": {},
   "source": [
    "### 在单个 CIFAR-10 部分上训练\n",
    "\n",
    "我们先用单个部分，而不是用所有的 CIFAR-10 批次训练神经网络。这样可以节省时间，并对模型进行迭代，以提高准确率。最终验证准确率达到 50% 或以上之后，在下一部分对所有数据运行模型。\n"
   ]
  },
  {
   "cell_type": "code",
   "execution_count": 37,
   "metadata": {},
   "outputs": [
    {
     "name": "stdout",
     "output_type": "stream",
     "text": [
      "Checking the Training on a Single Batch...\n",
      "Epoch  1, CIFAR-10 Batch 1:  [2.2668536, 0.17380001]\n",
      "Epoch  2, CIFAR-10 Batch 1:  [2.2395549, 0.20379998]\n",
      "Epoch  3, CIFAR-10 Batch 1:  [2.1567426, 0.26159999]\n",
      "Epoch  4, CIFAR-10 Batch 1:  [2.0476699, 0.30159998]\n",
      "Epoch  5, CIFAR-10 Batch 1:  [1.9518642, 0.32459998]\n",
      "Epoch  6, CIFAR-10 Batch 1:  [1.8420787, 0.35080001]\n",
      "Epoch  7, CIFAR-10 Batch 1:  [1.7820261, 0.37279999]\n",
      "Epoch  8, CIFAR-10 Batch 1:  [1.6976581, 0.39859998]\n",
      "Epoch  9, CIFAR-10 Batch 1:  [1.5844746, 0.41499996]\n",
      "Epoch 10, CIFAR-10 Batch 1:  [1.5234998, 0.42279997]\n",
      "Epoch 11, CIFAR-10 Batch 1:  [1.4724828, 0.44779995]\n",
      "Epoch 12, CIFAR-10 Batch 1:  [1.4079528, 0.4364]\n",
      "Epoch 13, CIFAR-10 Batch 1:  [1.3912491, 0.45539996]\n",
      "Epoch 14, CIFAR-10 Batch 1:  [1.3279322, 0.46399993]\n",
      "Epoch 15, CIFAR-10 Batch 1:  [1.3151507, 0.47119999]\n",
      "Epoch 16, CIFAR-10 Batch 1:  [1.2005845, 0.47939998]\n",
      "Epoch 17, CIFAR-10 Batch 1:  [1.1236637, 0.49259996]\n",
      "Epoch 18, CIFAR-10 Batch 1:  [1.0585283, 0.49299994]\n",
      "Epoch 19, CIFAR-10 Batch 1:  [1.1083922, 0.48659995]\n",
      "Epoch 20, CIFAR-10 Batch 1:  [1.0405343, 0.49339998]\n",
      "Epoch 21, CIFAR-10 Batch 1:  [0.95999277, 0.5151999]\n",
      "Epoch 22, CIFAR-10 Batch 1:  [0.91839194, 0.52039999]\n",
      "Epoch 23, CIFAR-10 Batch 1:  [0.85293031, 0.523]\n",
      "Epoch 24, CIFAR-10 Batch 1:  [0.78629422, 0.51979995]\n",
      "Epoch 25, CIFAR-10 Batch 1:  [0.74133885, 0.53759998]\n",
      "Epoch 26, CIFAR-10 Batch 1:  [0.72887099, 0.53159994]\n",
      "Epoch 27, CIFAR-10 Batch 1:  [0.71286106, 0.51359993]\n",
      "Epoch 28, CIFAR-10 Batch 1:  [0.63770622, 0.53359997]\n",
      "Epoch 29, CIFAR-10 Batch 1:  [0.60351628, 0.53899992]\n",
      "Epoch 30, CIFAR-10 Batch 1:  [0.5267694, 0.53959996]\n",
      "Epoch 31, CIFAR-10 Batch 1:  [0.55416238, 0.52999991]\n",
      "Epoch 32, CIFAR-10 Batch 1:  [0.46679524, 0.55079997]\n",
      "Epoch 33, CIFAR-10 Batch 1:  [0.44029206, 0.55679989]\n",
      "Epoch 34, CIFAR-10 Batch 1:  [0.41572821, 0.56199992]\n",
      "Epoch 35, CIFAR-10 Batch 1:  [0.36596602, 0.55439997]\n",
      "Epoch 36, CIFAR-10 Batch 1:  [0.3260864, 0.57259995]\n",
      "Epoch 37, CIFAR-10 Batch 1:  [0.36508012, 0.5614]\n",
      "Epoch 38, CIFAR-10 Batch 1:  [0.26659894, 0.57919991]\n",
      "Epoch 39, CIFAR-10 Batch 1:  [0.27426851, 0.55979991]\n",
      "Epoch 40, CIFAR-10 Batch 1:  [0.22687116, 0.58479989]\n",
      "Epoch 41, CIFAR-10 Batch 1:  [0.20798294, 0.59059989]\n",
      "Epoch 42, CIFAR-10 Batch 1:  [0.22093488, 0.58079994]\n",
      "Epoch 43, CIFAR-10 Batch 1:  [0.14889602, 0.5927999]\n",
      "Epoch 44, CIFAR-10 Batch 1:  [0.14662099, 0.59019989]\n",
      "Epoch 45, CIFAR-10 Batch 1:  [0.10515165, 0.59799993]\n",
      "Epoch 46, CIFAR-10 Batch 1:  [0.090413526, 0.5885998]\n",
      "Epoch 47, CIFAR-10 Batch 1:  [0.086392485, 0.59479988]\n",
      "Epoch 48, CIFAR-10 Batch 1:  [0.073932648, 0.5959999]\n",
      "Epoch 49, CIFAR-10 Batch 1:  [0.059898905, 0.60059988]\n",
      "Epoch 50, CIFAR-10 Batch 1:  [0.077437259, 0.58319992]\n"
     ]
    }
   ],
   "source": [
    "\"\"\"\n",
    "DON'T MODIFY ANYTHING IN THIS CELL\n",
    "\"\"\"\n",
    "print('Checking the Training on a Single Batch...')\n",
    "with tf.Session() as sess:\n",
    "    # Initializing the variables\n",
    "    sess.run(tf.global_variables_initializer())\n",
    "    \n",
    "    # Training cycle\n",
    "    for epoch in range(epochs):\n",
    "        batch_i = 1\n",
    "        for batch_features, batch_labels in helper.load_preprocess_training_batch(batch_i, batch_size):\n",
    "            train_neural_network(sess, optimizer, keep_probability, batch_features, batch_labels)\n",
    "        print('Epoch {:>2}, CIFAR-10 Batch {}:  '.format(epoch + 1, batch_i), end='')\n",
    "        print_stats(sess, batch_features, batch_labels, cost, accuracy)"
   ]
  },
  {
   "cell_type": "markdown",
   "metadata": {},
   "source": [
    "### 完全训练模型\n",
    "\n",
    "现在，单个 CIFAR-10 部分的准确率已经不错了，试试所有五个部分吧。"
   ]
  },
  {
   "cell_type": "code",
   "execution_count": 38,
   "metadata": {},
   "outputs": [
    {
     "name": "stdout",
     "output_type": "stream",
     "text": [
      "Training...\n",
      "Epoch  1, CIFAR-10 Batch 1:  [2.2839594, 0.14819999]\n",
      "Epoch  1, CIFAR-10 Batch 2:  [2.2658188, 0.19199999]\n",
      "Epoch  1, CIFAR-10 Batch 3:  [2.1401062, 0.20619997]\n",
      "Epoch  1, CIFAR-10 Batch 4:  [2.1321969, 0.23039997]\n",
      "Epoch  1, CIFAR-10 Batch 5:  [2.0542126, 0.28560001]\n",
      "Epoch  2, CIFAR-10 Batch 1:  [2.0067806, 0.3346]\n",
      "Epoch  2, CIFAR-10 Batch 2:  [1.8150535, 0.36000001]\n",
      "Epoch  2, CIFAR-10 Batch 3:  [1.7278831, 0.366]\n",
      "Epoch  2, CIFAR-10 Batch 4:  [1.7438478, 0.39359996]\n",
      "Epoch  2, CIFAR-10 Batch 5:  [1.7065618, 0.3962]\n",
      "Epoch  3, CIFAR-10 Batch 1:  [1.7908516, 0.41759998]\n",
      "Epoch  3, CIFAR-10 Batch 2:  [1.5126829, 0.41499996]\n",
      "Epoch  3, CIFAR-10 Batch 3:  [1.4479884, 0.43199998]\n",
      "Epoch  3, CIFAR-10 Batch 4:  [1.5470853, 0.43699998]\n",
      "Epoch  3, CIFAR-10 Batch 5:  [1.5260186, 0.43879998]\n",
      "Epoch  4, CIFAR-10 Batch 1:  [1.6935238, 0.43659997]\n",
      "Epoch  4, CIFAR-10 Batch 2:  [1.3852657, 0.45999998]\n",
      "Epoch  4, CIFAR-10 Batch 3:  [1.3252217, 0.4612]\n",
      "Epoch  4, CIFAR-10 Batch 4:  [1.426048, 0.48299998]\n",
      "Epoch  4, CIFAR-10 Batch 5:  [1.4323099, 0.47759995]\n",
      "Epoch  5, CIFAR-10 Batch 1:  [1.4848914, 0.49639997]\n",
      "Epoch  5, CIFAR-10 Batch 2:  [1.332428, 0.47579998]\n",
      "Epoch  5, CIFAR-10 Batch 3:  [1.2319858, 0.49519998]\n",
      "Epoch  5, CIFAR-10 Batch 4:  [1.3282318, 0.50639999]\n",
      "Epoch  5, CIFAR-10 Batch 5:  [1.4313166, 0.48279998]\n",
      "Epoch  6, CIFAR-10 Batch 1:  [1.3387463, 0.51199996]\n",
      "Epoch  6, CIFAR-10 Batch 2:  [1.2298265, 0.50319993]\n",
      "Epoch  6, CIFAR-10 Batch 3:  [1.1481177, 0.52059996]\n",
      "Epoch  6, CIFAR-10 Batch 4:  [1.2481322, 0.54019994]\n",
      "Epoch  6, CIFAR-10 Batch 5:  [1.1737374, 0.54919994]\n",
      "Epoch  7, CIFAR-10 Batch 1:  [1.227602, 0.56199992]\n",
      "Epoch  7, CIFAR-10 Batch 2:  [1.0954019, 0.53799993]\n",
      "Epoch  7, CIFAR-10 Batch 3:  [1.0452762, 0.54919994]\n",
      "Epoch  7, CIFAR-10 Batch 4:  [1.2406694, 0.55079991]\n",
      "Epoch  7, CIFAR-10 Batch 5:  [1.1401675, 0.56459987]\n",
      "Epoch  8, CIFAR-10 Batch 1:  [1.1574585, 0.56899995]\n",
      "Epoch  8, CIFAR-10 Batch 2:  [1.0393466, 0.57439995]\n",
      "Epoch  8, CIFAR-10 Batch 3:  [1.0370501, 0.54439998]\n",
      "Epoch  8, CIFAR-10 Batch 4:  [1.0947479, 0.57219994]\n",
      "Epoch  8, CIFAR-10 Batch 5:  [1.0451316, 0.56399995]\n",
      "Epoch  9, CIFAR-10 Batch 1:  [1.0762117, 0.59699994]\n",
      "Epoch  9, CIFAR-10 Batch 2:  [0.99981356, 0.58659995]\n",
      "Epoch  9, CIFAR-10 Batch 3:  [0.90600014, 0.58339995]\n",
      "Epoch  9, CIFAR-10 Batch 4:  [1.0260105, 0.58779991]\n",
      "Epoch  9, CIFAR-10 Batch 5:  [0.96429509, 0.56859994]\n",
      "Epoch 10, CIFAR-10 Batch 1:  [0.96810454, 0.60719991]\n",
      "Epoch 10, CIFAR-10 Batch 2:  [0.90630555, 0.58919996]\n",
      "Epoch 10, CIFAR-10 Batch 3:  [0.77202255, 0.60399985]\n",
      "Epoch 10, CIFAR-10 Batch 4:  [0.92295575, 0.61459994]\n",
      "Epoch 10, CIFAR-10 Batch 5:  [0.85954142, 0.6049999]\n",
      "Epoch 11, CIFAR-10 Batch 1:  [0.94702446, 0.6171999]\n",
      "Epoch 11, CIFAR-10 Batch 2:  [0.90943062, 0.60699993]\n",
      "Epoch 11, CIFAR-10 Batch 3:  [0.73370433, 0.6049999]\n",
      "Epoch 11, CIFAR-10 Batch 4:  [0.80953324, 0.63319993]\n",
      "Epoch 11, CIFAR-10 Batch 5:  [0.73799407, 0.6329999]\n",
      "Epoch 12, CIFAR-10 Batch 1:  [0.81876808, 0.63999993]\n",
      "Epoch 12, CIFAR-10 Batch 2:  [0.92188573, 0.59399992]\n",
      "Epoch 12, CIFAR-10 Batch 3:  [0.62330115, 0.6333999]\n",
      "Epoch 12, CIFAR-10 Batch 4:  [0.72784579, 0.64099991]\n",
      "Epoch 12, CIFAR-10 Batch 5:  [0.66594094, 0.63799989]\n",
      "Epoch 13, CIFAR-10 Batch 1:  [0.70588732, 0.6401999]\n",
      "Epoch 13, CIFAR-10 Batch 2:  [0.72970527, 0.61819994]\n",
      "Epoch 13, CIFAR-10 Batch 3:  [0.58050394, 0.64119989]\n",
      "Epoch 13, CIFAR-10 Batch 4:  [0.65243065, 0.65139985]\n",
      "Epoch 13, CIFAR-10 Batch 5:  [0.67626029, 0.62959993]\n",
      "Epoch 14, CIFAR-10 Batch 1:  [0.63444436, 0.66259986]\n",
      "Epoch 14, CIFAR-10 Batch 2:  [0.65957117, 0.65939987]\n",
      "Epoch 14, CIFAR-10 Batch 3:  [0.43347353, 0.66419989]\n",
      "Epoch 14, CIFAR-10 Batch 4:  [0.58588839, 0.65679991]\n",
      "Epoch 14, CIFAR-10 Batch 5:  [0.56216204, 0.66439992]\n",
      "Epoch 15, CIFAR-10 Batch 1:  [0.55986702, 0.66379988]\n",
      "Epoch 15, CIFAR-10 Batch 2:  [0.62955767, 0.64239991]\n",
      "Epoch 15, CIFAR-10 Batch 3:  [0.44990695, 0.66259986]\n",
      "Epoch 15, CIFAR-10 Batch 4:  [0.52909684, 0.66559988]\n",
      "Epoch 15, CIFAR-10 Batch 5:  [0.50446916, 0.6649999]\n",
      "Epoch 16, CIFAR-10 Batch 1:  [0.52078086, 0.66959989]\n",
      "Epoch 16, CIFAR-10 Batch 2:  [0.6034497, 0.63699985]\n",
      "Epoch 16, CIFAR-10 Batch 3:  [0.35603637, 0.67359984]\n",
      "Epoch 16, CIFAR-10 Batch 4:  [0.39723659, 0.68719989]\n",
      "Epoch 16, CIFAR-10 Batch 5:  [0.41048628, 0.68319982]\n",
      "Epoch 17, CIFAR-10 Batch 1:  [0.44968155, 0.67399985]\n",
      "Epoch 17, CIFAR-10 Batch 2:  [0.42925623, 0.67999995]\n",
      "Epoch 17, CIFAR-10 Batch 3:  [0.30490941, 0.67519987]\n",
      "Epoch 17, CIFAR-10 Batch 4:  [0.41794306, 0.66759992]\n",
      "Epoch 17, CIFAR-10 Batch 5:  [0.38506019, 0.68179983]\n",
      "Epoch 18, CIFAR-10 Batch 1:  [0.40763706, 0.6807999]\n",
      "Epoch 18, CIFAR-10 Batch 2:  [0.43322748, 0.6505999]\n",
      "Epoch 18, CIFAR-10 Batch 3:  [0.25127658, 0.68539989]\n",
      "Epoch 18, CIFAR-10 Batch 4:  [0.31092364, 0.70319992]\n",
      "Epoch 18, CIFAR-10 Batch 5:  [0.31346339, 0.68479979]\n",
      "Epoch 19, CIFAR-10 Batch 1:  [0.34594887, 0.6965999]\n",
      "Epoch 19, CIFAR-10 Batch 2:  [0.3798072, 0.67899984]\n",
      "Epoch 19, CIFAR-10 Batch 3:  [0.21377485, 0.68519986]\n",
      "Epoch 19, CIFAR-10 Batch 4:  [0.29919598, 0.69379985]\n",
      "Epoch 19, CIFAR-10 Batch 5:  [0.2766853, 0.70759988]\n",
      "Epoch 20, CIFAR-10 Batch 1:  [0.31258789, 0.69419986]\n",
      "Epoch 20, CIFAR-10 Batch 2:  [0.31370631, 0.68459988]\n",
      "Epoch 20, CIFAR-10 Batch 3:  [0.18747902, 0.70099986]\n",
      "Epoch 20, CIFAR-10 Batch 4:  [0.2441574, 0.70959985]\n",
      "Epoch 20, CIFAR-10 Batch 5:  [0.24641386, 0.70299983]\n",
      "Epoch 21, CIFAR-10 Batch 1:  [0.22690609, 0.7015999]\n",
      "Epoch 21, CIFAR-10 Batch 2:  [0.2942515, 0.69079989]\n",
      "Epoch 21, CIFAR-10 Batch 3:  [0.17513381, 0.69079989]\n",
      "Epoch 21, CIFAR-10 Batch 4:  [0.23823559, 0.70039988]\n",
      "Epoch 21, CIFAR-10 Batch 5:  [0.20940024, 0.71079987]\n",
      "Epoch 22, CIFAR-10 Batch 1:  [0.20217159, 0.72119975]\n",
      "Epoch 22, CIFAR-10 Batch 2:  [0.22959106, 0.70119983]\n",
      "Epoch 22, CIFAR-10 Batch 3:  [0.10966954, 0.70979989]\n",
      "Epoch 22, CIFAR-10 Batch 4:  [0.17418849, 0.71039987]\n",
      "Epoch 22, CIFAR-10 Batch 5:  [0.14459293, 0.72239983]\n",
      "Epoch 23, CIFAR-10 Batch 1:  [0.16520464, 0.71079987]\n",
      "Epoch 23, CIFAR-10 Batch 2:  [0.18636881, 0.68939984]\n",
      "Epoch 23, CIFAR-10 Batch 3:  [0.096519008, 0.72019994]\n",
      "Epoch 23, CIFAR-10 Batch 4:  [0.13724151, 0.71799988]\n",
      "Epoch 23, CIFAR-10 Batch 5:  [0.1394137, 0.71499991]\n",
      "Epoch 24, CIFAR-10 Batch 1:  [0.12569466, 0.71839988]\n",
      "Epoch 24, CIFAR-10 Batch 2:  [0.13571295, 0.71099985]\n",
      "Epoch 24, CIFAR-10 Batch 3:  [0.072502926, 0.72179991]\n",
      "Epoch 24, CIFAR-10 Batch 4:  [0.10995883, 0.7263999]\n",
      "Epoch 24, CIFAR-10 Batch 5:  [0.117414, 0.7249999]\n",
      "Epoch 25, CIFAR-10 Batch 1:  [0.10602743, 0.72779989]\n",
      "Epoch 25, CIFAR-10 Batch 2:  [0.11764652, 0.71039987]\n",
      "Epoch 25, CIFAR-10 Batch 3:  [0.055096027, 0.73019981]\n",
      "Epoch 25, CIFAR-10 Batch 4:  [0.073823802, 0.73639977]\n",
      "Epoch 25, CIFAR-10 Batch 5:  [0.11251887, 0.71259981]\n",
      "Epoch 26, CIFAR-10 Batch 1:  [0.081181578, 0.71959984]\n",
      "Epoch 26, CIFAR-10 Batch 2:  [0.089374684, 0.71239984]\n",
      "Epoch 26, CIFAR-10 Batch 3:  [0.036712814, 0.73519981]\n",
      "Epoch 26, CIFAR-10 Batch 4:  [0.07368169, 0.72959983]\n",
      "Epoch 26, CIFAR-10 Batch 5:  [0.079633921, 0.72119981]\n",
      "Epoch 27, CIFAR-10 Batch 1:  [0.065477088, 0.7367999]\n",
      "Epoch 27, CIFAR-10 Batch 2:  [0.072683163, 0.72099978]\n",
      "Epoch 27, CIFAR-10 Batch 3:  [0.043225307, 0.72939986]\n",
      "Epoch 27, CIFAR-10 Batch 4:  [0.061110765, 0.7365998]\n",
      "Epoch 27, CIFAR-10 Batch 5:  [0.067726381, 0.72879988]\n",
      "Epoch 28, CIFAR-10 Batch 1:  [0.047146305, 0.73239982]\n",
      "Epoch 28, CIFAR-10 Batch 2:  [0.068880603, 0.70639986]\n",
      "Epoch 28, CIFAR-10 Batch 3:  [0.046498977, 0.72219986]\n",
      "Epoch 28, CIFAR-10 Batch 4:  [0.072370678, 0.72319978]\n",
      "Epoch 28, CIFAR-10 Batch 5:  [0.054436862, 0.73319983]\n",
      "Epoch 29, CIFAR-10 Batch 1:  [0.036900543, 0.73899984]\n",
      "Epoch 29, CIFAR-10 Batch 2:  [0.043342479, 0.72559983]\n",
      "Epoch 29, CIFAR-10 Batch 3:  [0.023885539, 0.73859984]\n",
      "Epoch 29, CIFAR-10 Batch 4:  [0.036024101, 0.73079985]\n",
      "Epoch 29, CIFAR-10 Batch 5:  [0.042600021, 0.73859984]\n",
      "Epoch 30, CIFAR-10 Batch 1:  [0.057703752, 0.71759987]\n",
      "Epoch 30, CIFAR-10 Batch 2:  [0.034963977, 0.73599994]\n",
      "Epoch 30, CIFAR-10 Batch 3:  [0.022866778, 0.7329998]\n",
      "Epoch 30, CIFAR-10 Batch 4:  [0.034884091, 0.72959983]\n",
      "Epoch 30, CIFAR-10 Batch 5:  [0.039395247, 0.73879981]\n",
      "Epoch 31, CIFAR-10 Batch 1:  [0.040784858, 0.7365998]\n",
      "Epoch 31, CIFAR-10 Batch 2:  [0.029537994, 0.73379993]\n",
      "Epoch 31, CIFAR-10 Batch 3:  [0.018955547, 0.7361998]\n"
     ]
    },
    {
     "name": "stdout",
     "output_type": "stream",
     "text": [
      "Epoch 31, CIFAR-10 Batch 4:  [0.028130177, 0.72799987]\n",
      "Epoch 31, CIFAR-10 Batch 5:  [0.035881344, 0.72039986]\n",
      "Epoch 32, CIFAR-10 Batch 1:  [0.035823416, 0.72999984]\n",
      "Epoch 32, CIFAR-10 Batch 2:  [0.015348879, 0.74199975]\n",
      "Epoch 32, CIFAR-10 Batch 3:  [0.014927937, 0.72859979]\n",
      "Epoch 32, CIFAR-10 Batch 4:  [0.017323229, 0.73599982]\n",
      "Epoch 32, CIFAR-10 Batch 5:  [0.040162947, 0.72439986]\n",
      "Epoch 33, CIFAR-10 Batch 1:  [0.024890829, 0.73319983]\n",
      "Epoch 33, CIFAR-10 Batch 2:  [0.014807943, 0.73559988]\n",
      "Epoch 33, CIFAR-10 Batch 3:  [0.015004322, 0.7383998]\n",
      "Epoch 33, CIFAR-10 Batch 4:  [0.014631505, 0.74799985]\n",
      "Epoch 33, CIFAR-10 Batch 5:  [0.01517952, 0.73639989]\n",
      "Epoch 34, CIFAR-10 Batch 1:  [0.0191299, 0.74099982]\n",
      "Epoch 34, CIFAR-10 Batch 2:  [0.011667224, 0.7457999]\n",
      "Epoch 34, CIFAR-10 Batch 3:  [0.010204814, 0.73719984]\n",
      "Epoch 34, CIFAR-10 Batch 4:  [0.0090508107, 0.75159985]\n",
      "Epoch 34, CIFAR-10 Batch 5:  [0.013282402, 0.72919983]\n",
      "Epoch 35, CIFAR-10 Batch 1:  [0.012108231, 0.74979985]\n",
      "Epoch 35, CIFAR-10 Batch 2:  [0.0063218586, 0.74559987]\n",
      "Epoch 35, CIFAR-10 Batch 3:  [0.0086045293, 0.73819983]\n",
      "Epoch 35, CIFAR-10 Batch 4:  [0.012354639, 0.73759985]\n",
      "Epoch 35, CIFAR-10 Batch 5:  [0.020462615, 0.7425999]\n",
      "Epoch 36, CIFAR-10 Batch 1:  [0.010749539, 0.73559988]\n",
      "Epoch 36, CIFAR-10 Batch 2:  [0.0094035314, 0.72479987]\n",
      "Epoch 36, CIFAR-10 Batch 3:  [0.011484712, 0.71859986]\n",
      "Epoch 36, CIFAR-10 Batch 4:  [0.0073455595, 0.74979985]\n",
      "Epoch 36, CIFAR-10 Batch 5:  [0.014979266, 0.73559988]\n",
      "Epoch 37, CIFAR-10 Batch 1:  [0.007838022, 0.74059987]\n",
      "Epoch 37, CIFAR-10 Batch 2:  [0.0061006048, 0.73919988]\n",
      "Epoch 37, CIFAR-10 Batch 3:  [0.0056230496, 0.74219984]\n",
      "Epoch 37, CIFAR-10 Batch 4:  [0.014579951, 0.73999983]\n",
      "Epoch 37, CIFAR-10 Batch 5:  [0.02388503, 0.71599984]\n",
      "Epoch 38, CIFAR-10 Batch 1:  [0.0049070073, 0.73999989]\n",
      "Epoch 38, CIFAR-10 Batch 2:  [0.0060638916, 0.73919982]\n",
      "Epoch 38, CIFAR-10 Batch 3:  [0.0023517087, 0.74719989]\n",
      "Epoch 38, CIFAR-10 Batch 4:  [0.0061094654, 0.74699986]\n",
      "Epoch 38, CIFAR-10 Batch 5:  [0.012409464, 0.7361998]\n",
      "Epoch 39, CIFAR-10 Batch 1:  [0.0077550048, 0.74639982]\n",
      "Epoch 39, CIFAR-10 Batch 2:  [0.0059749451, 0.73879981]\n",
      "Epoch 39, CIFAR-10 Batch 3:  [0.0039133164, 0.74639988]\n",
      "Epoch 39, CIFAR-10 Batch 4:  [0.00491169, 0.74859983]\n",
      "Epoch 39, CIFAR-10 Batch 5:  [0.0050662449, 0.74779981]\n",
      "Epoch 40, CIFAR-10 Batch 1:  [0.0027122758, 0.7401998]\n",
      "Epoch 40, CIFAR-10 Batch 2:  [0.003368685, 0.73519987]\n",
      "Epoch 40, CIFAR-10 Batch 3:  [0.0024879379, 0.74839991]\n",
      "Epoch 40, CIFAR-10 Batch 4:  [0.004565164, 0.75039983]\n",
      "Epoch 40, CIFAR-10 Batch 5:  [0.011914488, 0.73719984]\n",
      "Epoch 41, CIFAR-10 Batch 1:  [0.0027834021, 0.75399983]\n",
      "Epoch 41, CIFAR-10 Batch 2:  [0.0016816346, 0.73959988]\n",
      "Epoch 41, CIFAR-10 Batch 3:  [0.0015981644, 0.73819983]\n",
      "Epoch 41, CIFAR-10 Batch 4:  [0.0078078452, 0.7487998]\n",
      "Epoch 41, CIFAR-10 Batch 5:  [0.0032616002, 0.73999989]\n",
      "Epoch 42, CIFAR-10 Batch 1:  [0.0043628183, 0.72659993]\n",
      "Epoch 42, CIFAR-10 Batch 2:  [0.0080086375, 0.72999984]\n",
      "Epoch 42, CIFAR-10 Batch 3:  [0.0027404877, 0.75139982]\n",
      "Epoch 42, CIFAR-10 Batch 4:  [0.0048998957, 0.75259984]\n",
      "Epoch 42, CIFAR-10 Batch 5:  [0.011045881, 0.74619985]\n",
      "Epoch 43, CIFAR-10 Batch 1:  [0.0041205734, 0.72939986]\n",
      "Epoch 43, CIFAR-10 Batch 2:  [0.0020757252, 0.73479986]\n",
      "Epoch 43, CIFAR-10 Batch 3:  [0.0044416892, 0.74859977]\n",
      "Epoch 43, CIFAR-10 Batch 4:  [0.0059535215, 0.74639982]\n",
      "Epoch 43, CIFAR-10 Batch 5:  [0.0037823592, 0.72979987]\n",
      "Epoch 44, CIFAR-10 Batch 1:  [0.002115997, 0.74799979]\n",
      "Epoch 44, CIFAR-10 Batch 2:  [0.0020220981, 0.73219979]\n",
      "Epoch 44, CIFAR-10 Batch 3:  [0.0023065258, 0.74359983]\n",
      "Epoch 44, CIFAR-10 Batch 4:  [0.0029858912, 0.75299984]\n",
      "Epoch 44, CIFAR-10 Batch 5:  [0.0038123173, 0.75039983]\n",
      "Epoch 45, CIFAR-10 Batch 1:  [0.0030043924, 0.74459982]\n",
      "Epoch 45, CIFAR-10 Batch 2:  [0.0010245743, 0.74199986]\n",
      "Epoch 45, CIFAR-10 Batch 3:  [0.0019156858, 0.75559986]\n",
      "Epoch 45, CIFAR-10 Batch 4:  [0.0039487677, 0.75079983]\n",
      "Epoch 45, CIFAR-10 Batch 5:  [0.0035987555, 0.73759991]\n",
      "Epoch 46, CIFAR-10 Batch 1:  [0.0023998879, 0.74619985]\n",
      "Epoch 46, CIFAR-10 Batch 2:  [0.00086895766, 0.75059986]\n",
      "Epoch 46, CIFAR-10 Batch 3:  [0.001229903, 0.7421999]\n",
      "Epoch 46, CIFAR-10 Batch 4:  [0.0044461484, 0.74919987]\n",
      "Epoch 46, CIFAR-10 Batch 5:  [0.001627425, 0.74779981]\n",
      "Epoch 47, CIFAR-10 Batch 1:  [0.001001621, 0.74399978]\n",
      "Epoch 47, CIFAR-10 Batch 2:  [0.001407861, 0.74739987]\n",
      "Epoch 47, CIFAR-10 Batch 3:  [0.00084068201, 0.74099988]\n",
      "Epoch 47, CIFAR-10 Batch 4:  [0.0024409036, 0.75239986]\n",
      "Epoch 47, CIFAR-10 Batch 5:  [0.0010465897, 0.74699986]\n",
      "Epoch 48, CIFAR-10 Batch 1:  [0.0034642799, 0.73679984]\n",
      "Epoch 48, CIFAR-10 Batch 2:  [0.00051574793, 0.75079989]\n",
      "Epoch 48, CIFAR-10 Batch 3:  [0.00061692164, 0.74139982]\n",
      "Epoch 48, CIFAR-10 Batch 4:  [0.003721792, 0.74679983]\n",
      "Epoch 48, CIFAR-10 Batch 5:  [0.0011360846, 0.75199991]\n",
      "Epoch 49, CIFAR-10 Batch 1:  [0.0016520856, 0.74979979]\n",
      "Epoch 49, CIFAR-10 Batch 2:  [0.0013589687, 0.73739982]\n",
      "Epoch 49, CIFAR-10 Batch 3:  [0.00041164603, 0.75159985]\n",
      "Epoch 49, CIFAR-10 Batch 4:  [0.0025036046, 0.74599981]\n",
      "Epoch 49, CIFAR-10 Batch 5:  [0.0021592639, 0.75079983]\n",
      "Epoch 50, CIFAR-10 Batch 1:  [0.0016395913, 0.75499988]\n",
      "Epoch 50, CIFAR-10 Batch 2:  [0.00051839149, 0.74619991]\n",
      "Epoch 50, CIFAR-10 Batch 3:  [0.00034992391, 0.74839985]\n",
      "Epoch 50, CIFAR-10 Batch 4:  [0.0012018096, 0.73979986]\n",
      "Epoch 50, CIFAR-10 Batch 5:  [0.0020938702, 0.7511999]\n"
     ]
    }
   ],
   "source": [
    "\"\"\"\n",
    "DON'T MODIFY ANYTHING IN THIS CELL\n",
    "\"\"\"\n",
    "save_model_path = './image_classification'\n",
    "\n",
    "print('Training...')\n",
    "with tf.Session() as sess:\n",
    "    # Initializing the variables\n",
    "    sess.run(tf.global_variables_initializer())\n",
    "    \n",
    "    # Training cycle\n",
    "    for epoch in range(epochs):\n",
    "        # Loop over all batches\n",
    "        n_batches = 5\n",
    "        for batch_i in range(1, n_batches + 1):\n",
    "            for batch_features, batch_labels in helper.load_preprocess_training_batch(batch_i, batch_size):\n",
    "                train_neural_network(sess, optimizer, keep_probability, batch_features, batch_labels)\n",
    "            print('Epoch {:>2}, CIFAR-10 Batch {}:  '.format(epoch + 1, batch_i), end='')\n",
    "            print_stats(sess, batch_features, batch_labels, cost, accuracy)\n",
    "            \n",
    "    # Save Model\n",
    "    saver = tf.train.Saver()\n",
    "    save_path = saver.save(sess, save_model_path)"
   ]
  },
  {
   "cell_type": "markdown",
   "metadata": {},
   "source": [
    "# 检查点\n",
    "\n",
    "模型已保存到本地。\n",
    "\n",
    "## 测试模型\n",
    "\n",
    "利用测试数据集测试你的模型。这将是最终的准确率。你的准确率应该高于 50%。如果没达到，请继续调整模型结构和参数。"
   ]
  },
  {
   "cell_type": "code",
   "execution_count": 39,
   "metadata": {},
   "outputs": [
    {
     "name": "stdout",
     "output_type": "stream",
     "text": [
      "INFO:tensorflow:Restoring parameters from ./image_classification\n",
      "Testing Accuracy: 0.7455078125\n",
      "\n"
     ]
    },
    {
     "data": {
      "image/png": "[encoded data removed]",
      "text/plain": [
       "<matplotlib.figure.Figure at 0x7f2a2fa7a5f8>"
      ]
     },
     "metadata": {
      "image/png": {
       "height": 319,
       "width": 355
      }
     },
     "output_type": "display_data"
    }
   ],
   "source": [
    "\"\"\"\n",
    "DON'T MODIFY ANYTHING IN THIS CELL\n",
    "\"\"\"\n",
    "%matplotlib inline\n",
    "%config InlineBackend.figure_format = 'retina'\n",
    "\n",
    "import tensorflow as tf\n",
    "import pickle\n",
    "import helper\n",
    "import random\n",
    "\n",
    "# Set batch size if not already set\n",
    "try:\n",
    "    if batch_size:\n",
    "        pass\n",
    "except NameError:\n",
    "    batch_size = 64\n",
    "\n",
    "save_model_path = './image_classification'\n",
    "n_samples = 4\n",
    "top_n_predictions = 3\n",
    "\n",
    "def test_model():\n",
    "    \"\"\"\n",
    "    Test the saved model against the test dataset\n",
    "    \"\"\"\n",
    "\n",
    "    test_features, test_labels = pickle.load(open('preprocess_test.p', mode='rb'))\n",
    "    loaded_graph = tf.Graph()\n",
    "\n",
    "    with tf.Session(graph=loaded_graph) as sess:\n",
    "        # Load model\n",
    "        loader = tf.train.import_meta_graph(save_model_path + '.meta')\n",
    "        loader.restore(sess, save_model_path)\n",
    "\n",
    "        # Get Tensors from loaded model\n",
    "        loaded_x = loaded_graph.get_tensor_by_name('x:0')\n",
    "        loaded_y = loaded_graph.get_tensor_by_name('y:0')\n",
    "        loaded_keep_prob = loaded_graph.get_tensor_by_name('keep_prob:0')\n",
    "        loaded_logits = loaded_graph.get_tensor_by_name('logits:0')\n",
    "        loaded_acc = loaded_graph.get_tensor_by_name('accuracy:0')\n",
    "        \n",
    "        # Get accuracy in batches for memory limitations\n",
    "        test_batch_acc_total = 0\n",
    "        test_batch_count = 0\n",
    "        \n",
    "        for test_feature_batch, test_label_batch in helper.batch_features_labels(test_features, test_labels, batch_size):\n",
    "            test_batch_acc_total += sess.run(\n",
    "                loaded_acc,\n",
    "                feed_dict={loaded_x: test_feature_batch, loaded_y: test_label_batch, loaded_keep_prob: 1.0})\n",
    "            test_batch_count += 1\n",
    "\n",
    "        print('Testing Accuracy: {}\\n'.format(test_batch_acc_total/test_batch_count))\n",
    "\n",
    "        # Print Random Samples\n",
    "        random_test_features, random_test_labels = tuple(zip(*random.sample(list(zip(test_features, test_labels)), n_samples)))\n",
    "        random_test_predictions = sess.run(\n",
    "            tf.nn.top_k(tf.nn.softmax(loaded_logits), top_n_predictions),\n",
    "            feed_dict={loaded_x: random_test_features, loaded_y: random_test_labels, loaded_keep_prob: 1.0})\n",
    "        helper.display_image_predictions(random_test_features, random_test_labels, random_test_predictions)\n",
    "\n",
    "\n",
    "test_model()"
   ]
  },
  {
   "cell_type": "markdown",
   "metadata": {},
   "source": [
    "## 为何准确率只有50-80%？\n",
    "\n",
    "你可能想问，为何准确率不能更高了？首先，对于简单的 CNN 网络来说，50% 已经不低了。纯粹猜测的准确率为10%。但是，你可能注意到有人的准确率[远远超过 80%](http://rodrigob.github.io/are_we_there_yet/build/classification_datasets_results.html#43494641522d3130)。这是因为我们还没有介绍所有的神经网络知识。我们还需要掌握一些其他技巧。\n",
    "\n",
    "## 提交项目\n",
    "\n",
    "提交项目时，确保先运行所有单元，然后再保存记事本。将 notebook 文件另存为“dlnd_image_classification.ipynb”，再在目录 \"File\" -> \"Download as\" 另存为 HTML 格式。请在提交的项目中包含 “helper.py” 和 “problem_unittests.py” 文件。\n"
   ]
  }
 ],
 "metadata": {
  "kernelspec": {
   "display_name": "Python 3",
   "language": "python",
   "name": "python3"
  },
  "language_info": {
   "codemirror_mode": {
    "name": "ipython",
    "version": 3
   },
   "file_extension": ".py",
   "mimetype": "text/x-python",
   "name": "python",
   "nbconvert_exporter": "python",
   "pygments_lexer": "ipython3",
   "version": "3.5.3"
  }
 },
 "nbformat": 4,
 "nbformat_minor": 1
}
